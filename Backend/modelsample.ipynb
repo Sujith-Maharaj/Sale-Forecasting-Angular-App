{
 "cells": [
  {
   "cell_type": "code",
   "execution_count": null,
   "metadata": {},
   "outputs": [],
   "source": [
    "import pandas as pd\n",
    "import numpy as np\n",
    "from statsmodels.tsa.arima.model import ARIMA\n",
    "from statsmodels.tsa.statespace.sarimax import SARIMAX\n",
    "import matplotlib.pyplot as plt"
   ]
  },
  {
   "cell_type": "code",
   "execution_count": null,
   "metadata": {},
   "outputs": [],
   "source": [
    "#Load The Past prices from the csv file\n",
    "sales_data = pd.read_csv('../Backend/gold_monthly_csv.csv')"
   ]
  },
  {
   "cell_type": "code",
   "execution_count": null,
   "metadata": {},
   "outputs": [],
   "source": [
    "#Convert the \"Date\" column to datetime object and set index as date\n",
    "sales_data['Date'] = pd.to_datetime(sales_data['Date'], format='%Y-%m')\n",
    "sales_data.set_index('Date', inplace=True)\n",
    "sales_data"
   ]
  },
  {
   "cell_type": "code",
   "execution_count": null,
   "metadata": {},
   "outputs": [],
   "source": [
    "monthly_sales_data = sales_data.resample('m').sum()\n",
    "monthly_sales_data"
   ]
  },
  {
   "cell_type": "code",
   "execution_count": null,
   "metadata": {},
   "outputs": [],
   "source": [
    "yearly_sales_data = sales_data.resample('Y').sum()\n",
    "yearly_sales_data"
   ]
  },
  {
   "cell_type": "code",
   "execution_count": null,
   "metadata": {},
   "outputs": [],
   "source": [
    "monthly_sales_data.plot()"
   ]
  },
  {
   "cell_type": "code",
   "execution_count": null,
   "metadata": {},
   "outputs": [],
   "source": [
    "yearly_sales_data.plot()"
   ]
  },
  {
   "cell_type": "code",
   "execution_count": null,
   "metadata": {},
   "outputs": [],
   "source": [
    "# Function to train arima model\n",
    "def train_arima_model(data):\n",
    "    model = ARIMA(data, order=(1,0,0))\n",
    "    model_fit = model.fit()\n",
    "    return model_fit"
   ]
  },
  {
   "cell_type": "code",
   "execution_count": null,
   "metadata": {},
   "outputs": [],
   "source": [
    "#Function to train sarima model\n",
    "def train_sarima_model(data):\n",
    "    model = SARIMAX(data, order=(1,0,0), seasonal_order=(0,1,1,12))\n",
    "    model_fit = model.fit()\n",
    "    return model_fit"
   ]
  },
  {
   "cell_type": "code",
   "execution_count": null,
   "metadata": {},
   "outputs": [],
   "source": [
    "#Train Arima model on monthly sales data\n",
    "arima_model_monthly = train_arima_model(monthly_sales_data['Price'])"
   ]
  },
  {
   "cell_type": "code",
   "execution_count": null,
   "metadata": {},
   "outputs": [],
   "source": [
    "#train sarima model on monthly data\n",
    "sarima_model_monthly = train_sarima_model(monthly_sales_data['Price'])"
   ]
  },
  {
   "cell_type": "code",
   "execution_count": null,
   "metadata": {},
   "outputs": [],
   "source": [
    "#Train Arima model on yearly data\n",
    "arima_model_yearly = train_arima_model(yearly_sales_data['Price'])"
   ]
  },
  {
   "cell_type": "code",
   "execution_count": null,
   "metadata": {},
   "outputs": [],
   "source": [
    "#Train Sarima Model on yearly sales data\n",
    "sarima_model_yearly = train_sarima_model(yearly_sales_data['Price'])"
   ]
  },
  {
   "attachments": {},
   "cell_type": "markdown",
   "metadata": {},
   "source": [
    "Monthly predictions using both models"
   ]
  },
  {
   "cell_type": "code",
   "execution_count": null,
   "metadata": {},
   "outputs": [],
   "source": [
    "#Forecast future sales using ARIMA model on monthly basis..\n",
    "forecast_arima_monthly = arima_model_monthly.forecast(steps=25)\n",
    "forecast_arima_monthly"
   ]
  },
  {
   "cell_type": "code",
   "execution_count": null,
   "metadata": {},
   "outputs": [],
   "source": [
    "#Forecast future sales using sarima model on monthly basis...\n",
    "forecast_sarima_monthly = sarima_model_monthly.forecast(steps=25)\n",
    "forecast_sarima_monthly"
   ]
  },
  {
   "attachments": {},
   "cell_type": "markdown",
   "metadata": {},
   "source": [
    "Yearly predictions using both models"
   ]
  },
  {
   "cell_type": "code",
   "execution_count": null,
   "metadata": {},
   "outputs": [],
   "source": [
    "#Forecast future sales using arima model on yearly basis..\n",
    "forecast_arima_yearly = arima_model_yearly.forecast(steps=12)\n",
    "forecast_arima_yearly"
   ]
  },
  {
   "cell_type": "code",
   "execution_count": null,
   "metadata": {},
   "outputs": [],
   "source": [
    "#Forecast future sales using sarima model on yearly basis..\n",
    "forecast_sarima_yearly = sarima_model_yearly.forecast(steps=12)\n",
    "forecast_sarima_yearly"
   ]
  },
  {
   "attachments": {},
   "cell_type": "markdown",
   "metadata": {},
   "source": [
    "Monthly Forecast"
   ]
  },
  {
   "cell_type": "code",
   "execution_count": null,
   "metadata": {},
   "outputs": [],
   "source": [
    "#Plot The Monthly Forecast\n",
    "plt.figure(figsize=(12,6))\n",
    "# plt.plot(monthly_sales_data.index, monthly_sales_data['Price'], label='Actual Sales')\n",
    "plt.plot(forecast_arima_monthly.index, forecast_arima_monthly, label='ARIMA Forecast')\n",
    "plt.plot(forecast_sarima_monthly.index, forecast_sarima_monthly, label='SARIMA Forecast')\n",
    "plt.xlabel('Date')\n",
    "plt.ylabel('Sales')\n",
    "plt.title('Monthly Sales Forecast')\n",
    "plt.legend()\n",
    "plt.show()"
   ]
  },
  {
   "attachments": {},
   "cell_type": "markdown",
   "metadata": {},
   "source": [
    "Yearly Forecast"
   ]
  },
  {
   "cell_type": "code",
   "execution_count": null,
   "metadata": {},
   "outputs": [],
   "source": [
    "# Plot for yearly forecast\n",
    "plt.figure(figsize=(12,6))\n",
    "# plt.plot(yearly_sales_data.index, yearly_sales_data['Price'], label='Actual Sales')\n",
    "plt.plot(forecast_arima_yearly.index, forecast_arima_yearly, label='ARIMA Forecast')\n",
    "plt.plot(forecast_sarima_yearly.index, forecast_sarima_yearly, label='SARIMA Forecast')\n",
    "plt.xlabel('Date')\n",
    "plt.ylabel('Sales')\n",
    "plt.title('Monthly Sales Forecast')\n",
    "plt.legend()\n",
    "plt.show()"
   ]
  }
 ],
 "metadata": {
  "kernelspec": {
   "display_name": "Python 3",
   "language": "python",
   "name": "python3"
  },
  "language_info": {
   "codemirror_mode": {
    "name": "ipython",
    "version": 3
   },
   "file_extension": ".py",
   "mimetype": "text/x-python",
   "name": "python",
   "nbconvert_exporter": "python",
   "pygments_lexer": "ipython3",
   "version": "3.7.6"
  },
  "orig_nbformat": 4
 },
 "nbformat": 4,
 "nbformat_minor": 2
}
